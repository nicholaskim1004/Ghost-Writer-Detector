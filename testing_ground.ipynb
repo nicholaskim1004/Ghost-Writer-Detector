{
 "cells": [
  {
   "cell_type": "markdown",
   "id": "d14fa868",
   "metadata": {},
   "source": [
    "## Ghost Writer Detector\n",
    "\n"
   ]
  },
  {
   "cell_type": "code",
   "execution_count": null,
   "id": "b1cf4014",
   "metadata": {},
   "outputs": [
    {
     "name": "stdout",
     "output_type": "stream",
     "text": [
      "\n",
      "🎤 Processing artist: Mac Miller\n"
     ]
    }
   ],
   "source": [
    "from lyricsgenius import Genius\n",
    "import pandas as pd\n",
    "import time\n",
    "\n",
    "# -----------------------------\n",
    "# CONFIGURATION\n",
    "# -----------------------------\n",
    "with open(\"genius_token.txt\", \"r\") as f:\n",
    "    token = f.read().strip()\n",
    "\n",
    "genius = Genius(token, timeout=20, sleep_time=3, retries=5)\n",
    "\n",
    "# List of artists\n",
    "artists = [\"Mac Miller\", \"Kendrick Lamar\", \"Quentin Miller\", \"Drake\", \"J. Cole\", \"A Tribe Called Quest\", \"Kanye West\", \"Soulja Boy\",\"Jay-Z\", \"Big L\", \"Childern of the Corn\",\"Tyler, The Creator\", \"2Pac\", \"Joey Bada$$\"]\n",
    "\n",
    "# Optionally: limit to certain albums for each artist\n",
    "# Leave list empty [] to pull all albums\n",
    "target_albums = {\n",
    "    \"Mac Miller\": [\"Swimming\", \"Circles\", \"K.I.D.S.\", \"The Divine Feminine\", \"Faces\"],\n",
    "    \"Kendrick Lamar\": [\"DAMN.\", \"good kid, m.A.A.d city\", \"To Pimp a Butterfly\", \"Mr. Morale & the Big Steppers\", \"Section.80\",\"untitled unmastered.\", \"Black Panther: The Album\"],\n",
    "    \"Quentin Miller\": [\"Essentials, Vol. 2\", \"Q.M.\", \"Hey! Thanks a Lot 3\", \"na fr.\", \"Falco\", \"X.X.\",\"Hey! Thanks a Lot 2\", \"Shredded Metal\"],\n",
    "    \"Drake\": [\"So Far Gone\", \"Take Care\", \"Nothing Was the Same\", \"If You're Reading This It's Too Late\", \"More Life\", \"Scorpion\", \"Certified Lover Boy\"],\n",
    "    \"J. Cole\": [\"The Warm Up\", \"Friday Night Lights\", \"Cole World: The Sideline Story\", \"2014 Forest Hills Drive\", \"4 Your Eyez Only\", \"KOD\"],\n",
    "    \"A Tribe Called Quest\": [\"People’s Instinctive Travels and the Paths of Rhythm\", \"The Low End Theory\", \"Midnight Marauders\", \"The Anthology\",\"We got it from Here... Thank You 4 Your service\",\"The Lost Tribes\"],\n",
    "    \"Kanye West\": [\"The College Dropout\", \"Late Registration\", \"Graduation\", \"808s & Heartbreak\", \"My Beautiful Dark Twisted Fantasy\", \"The Life of Pablo\"],\n",
    "    \"Soulja Boy\": [\"Pretty Boy Millionaires\", \"Greatest Entertainer Alive\", \"Tell Em Tv\", \"iSouljaBoyTellem\",\"The DeAndre Way\",\"Supaman\", \"Unsigned and Still Major: Da Album Before Da Album\", \"souljaboytellem.com\", \"The Teen of the South\", \"P.B.M. Pretty Boy Millionaires (Streaming Version)\"],\n",
    "    \"Jay-Z\": [\"Reasonable Doubt\", \"The Blueprint\", \"The Black Album\", \"The Blueprint 3\", \"Watch the Throne\", \"4:44\"],\n",
    "    \"Big L\": [\"Now or Never\", \"The Danger Zone\", \"Return of the Devil's Son\", \"139 & Lenox\", \"Lifestylez Ov Da Poor & Dangerous\",\"Devil’s Son EP (From The Vaults)\", \"Harlem’s Finest: Return of the King\"],\n",
    "    \"Children of the Corn\": [\"Children of the Corn: Collector’s Edition\", \"Welcome to the Dangerzone\"],\n",
    "    \"Tyler, The Creator\": [\"Bastard\", \"Goblin\", \"Flower Boy\", \"IGOR\", \"CALL ME IF YOU GET LOST: The Estate Sale\", \"CHROMAKOPIA\"],\n",
    "    \"2Pac\": [\"Greatest Hits\", \"I Ain't Mad At 'Cha\", \"All Eyez On Me\", \"Strictly 4 My N.I.G.G.A.Z...\", \"Me Against The World\", \"So Many Tears\"],\n",
    "    \"Joey Bada$$\": [\"1999\", \"B4.DA.$$\", \"ALL-AMERIKKKAN BADA$$\", \"The Light Pack\", \"2000\", \"Rejex\"]\n",
    "}\n",
    "\n",
    "# -----------------------------\n",
    "# FUNCTION DEFINITIONS\n",
    "# -----------------------------\n",
    "\n",
    "def get_artist_id(artist_name):\n",
    "    \"\"\"Search Genius API for an artist's ID.\"\"\"\n",
    "    try:\n",
    "        search = genius.search_artists(artist_name)\n",
    "        return search[\"sections\"][0][\"hits\"][0][\"result\"][\"id\"]\n",
    "    except Exception as e:\n",
    "        print(f\"⚠️ Could not find artist ID for {artist_name}: {e}\")\n",
    "        return None\n",
    "\n",
    "\n",
    "def get_albums_by_artist(artist_id):\n",
    "    \"\"\"Return all albums for a given artist ID.\"\"\"\n",
    "    all_albums = []\n",
    "    page = 1\n",
    "    while True:\n",
    "        response = genius.artist_albums(artist_id, page=page)\n",
    "        albums_page = response.get(\"albums\", [])\n",
    "        if not albums_page:\n",
    "            break\n",
    "        all_albums.extend(albums_page)\n",
    "        page += 1\n",
    "    return [\n",
    "        {\"album_name\": a[\"name\"], \"album_id\": a[\"id\"], \"url\": a[\"url\"]}\n",
    "        for a in all_albums\n",
    "    ]\n",
    "\n",
    "\n",
    "def get_album_tracks(album_id):\n",
    "    \"\"\"Fetch all tracks for a Genius album safely.\"\"\"\n",
    "    all_tracks = []\n",
    "    page = 1\n",
    "    while True:\n",
    "        try:\n",
    "            response = genius._make_request(\n",
    "                f\"albums/{album_id}/tracks\",\n",
    "                params_={\"page\": page},\n",
    "                public_api=True\n",
    "            )\n",
    "        except AssertionError as e:\n",
    "            if \"403\" in str(e):\n",
    "                print(f\"🚫 Forbidden: no access to album {album_id}\")\n",
    "            elif \"404\" in str(e):\n",
    "                print(f\"❌ Album {album_id} not found\")\n",
    "            else:\n",
    "                print(f\"⚠️ Unexpected error fetching album {album_id}: {e}\")\n",
    "            break  # stop paging if request fails\n",
    "\n",
    "        # safely extract tracks\n",
    "        page_tracks = response.get(\"tracks\", [])\n",
    "        if not page_tracks:\n",
    "            break\n",
    "        all_tracks.extend(page_tracks)\n",
    "        page += 1\n",
    "    return [\n",
    "        {\"song_id\": t[\"song\"][\"id\"], \"song_title\": t[\"song\"][\"title\"], \"date\": t[\"song\"][\"release_date_for_display\"],\"url\": t[\"song\"][\"url\"]}\n",
    "        for t in all_tracks\n",
    "    ]\n",
    "\n",
    "\n",
    "def get_lyrics(url):\n",
    "    \"\"\"Fetch lyrics safely.\"\"\"\n",
    "    try:\n",
    "        return genius.lyrics(song_url=url)\n",
    "    except AssertionError as e:\n",
    "        if \"403\" in str(e):\n",
    "            print(f\"🚫 Lyrics not accessible for {url}\")\n",
    "        else:\n",
    "            print(f\"⚠️ AssertionError fetching lyrics: {e}\")\n",
    "        return None\n",
    "    except Exception as e:\n",
    "        print(f\"⚠️ Error fetching lyrics from {url}: {e}\")\n",
    "        return None\n",
    "    \n",
    "def safe_get_writers(songid, artist_name):\n",
    "    \"\"\"Safely get writer credits for a Genius song ID.\"\"\"\n",
    "    try:\n",
    "        song_data = genius.song(songid)\n",
    "        if song_data and 'song' in song_data:\n",
    "            writers_cred = song_data['song'].get('writer_artists', [])\n",
    "            return [w['name'] for w in writers_cred] if writers_cred else [artist_name]\n",
    "        else:\n",
    "            return [artist_name]\n",
    "    except AssertionError as e:\n",
    "        if \"403\" in str(e):\n",
    "            print(f\"🚫 Skipping song {songid} — 403 Forbidden (private/unreleased)\")\n",
    "        else:\n",
    "            print(f\"⚠️ AssertionError on song {songid}: {e}\")\n",
    "        return [artist_name]\n",
    "    except Exception as e:\n",
    "        print(f\"⚠️ Unexpected error on song {songid}: {e}\")\n",
    "        return [artist_name]\n",
    "    \n",
    "def safe_get_song(songid):\n",
    "    \"\"\"Wrapper for genius.song() to handle rate limits and HTML responses safely.\"\"\"\n",
    "    try:\n",
    "        return genius.song(songid)\n",
    "    except AssertionError as e:\n",
    "        if \"403\" in str(e):\n",
    "            print(f\"🚫 Forbidden: Song {songid} (private/unreleased)\")\n",
    "        elif \"429\" in str(e):\n",
    "            print(f\"⏳ Rate limit hit — sleeping before retry...\")\n",
    "            time.sleep(10)\n",
    "            return safe_get_song(songid)\n",
    "        else:\n",
    "            print(f\"⚠️ AssertionError on song {songid}: {e}\")\n",
    "        return None\n",
    "    except Exception as e:\n",
    "        print(f\"⚠️ Unexpected error on song {songid}: {e}\")\n",
    "        return None\n",
    "\n",
    "\n",
    "\n",
    "# -----------------------------\n",
    "# MAIN LOOP\n",
    "# -----------------------------\n",
    "\n",
    "all_results = []\n",
    "seen_tracks = set()\n",
    "\n",
    "for artist_name in artists:\n",
    "    if artist_name == \"Childern of the Corn\":\n",
    "        artist_name = \"Big L\"\n",
    "    print(f\"\\n🎤 Processing artist: {artist_name}\")\n",
    "    artist_id = get_artist_id(artist_name)\n",
    "    if artist_id is None:\n",
    "        continue\n",
    "\n",
    "    albums = get_albums_by_artist(artist_id)\n",
    "    if not albums:\n",
    "        print(f\"  ⚠️ No albums found for {artist_name}\")\n",
    "        continue\n",
    "\n",
    "    df_albums = pd.DataFrame(albums)\n",
    "\n",
    "    # Filter if target albums specified\n",
    "    if target_albums.get(artist_name):\n",
    "        df_albums = df_albums[df_albums[\"album_name\"].isin(target_albums[artist_name])]\n",
    "\n",
    "    for _, album_row in df_albums.iterrows():\n",
    "        album_name = album_row[\"album_name\"]\n",
    "        album_id = album_row[\"album_id\"]\n",
    "        print(f\"  💿 Getting tracks for album: {album_name}\")\n",
    "\n",
    "        tracks = get_album_tracks(album_id)\n",
    "        for t in tracks:\n",
    "            songid = t['song_id']\n",
    "            if songid not in seen_tracks:\n",
    "                seen_tracks.add(songid)\n",
    "                print(f\"     🎶 {t['song_title']}\")\n",
    "                lyrics = get_lyrics(t[\"url\"])\n",
    "                \n",
    "                writers = safe_get_writers(songid, artist_name)\n",
    "                \n",
    "                all_results.append({\n",
    "                    \"artist\": artist_name,\n",
    "                    \"album\": album_name,\n",
    "                    \"song_title\": t[\"song_title\"],\n",
    "                    \"date\": t['date'],\n",
    "                    \"writers\": writers,\n",
    "                    \"lyrics\": lyrics\n",
    "                })\n",
    "                time.sleep(1)  # be nice to the API\n",
    "                \n",
    "for artist_name in artists:\n",
    "    print(f\"\\n🎤 Processing artist: {artist_name}\")\n",
    "    artist_id = get_artist_id(artist_name)\n",
    "    if artist_id is None:\n",
    "        continue\n",
    "    newest_50 = genius.artist_songs(artist_id, sort='release_date', per_page=50)\n",
    "    print(f\"  🚀 Getting latest songs from: {artist_name}\")\n",
    "    for t in newest_50['songs']:\n",
    "        songid = t['id']\n",
    "        if songid not in seen_tracks:\n",
    "            seen_tracks.add(songid)\n",
    "            s = safe_get_song(songid)\n",
    "            if not s or 'song' not in s:\n",
    "                continue  # skip this song safely\n",
    "\n",
    "            album_data = s['song'].get('album')\n",
    "            album_name = album_data['name'] if album_data else None\n",
    "           \n",
    "            print(f\"     🎶 {t['title']}\")\n",
    "            lyrics = get_lyrics(t[\"url\"])\n",
    "            \n",
    "            writers = safe_get_writers(songid, artist_name)\n",
    "            \n",
    "            all_results.append({\n",
    "                \"artist\": artist_name,\n",
    "                \"album\": album_name,\n",
    "                \"song_title\": t[\"title\"],\n",
    "                \"date\": t[\"release_date_for_display\"],\n",
    "                \"writers\": writers,\n",
    "                \"lyrics\": lyrics\n",
    "            })\n",
    "            time.sleep(1)\n",
    "    popular_50 = genius.artist_songs(artist_id, sort='popularity', per_page=50)\n",
    "    print(f\"  🔥 Getting most popular tracks from: {artist_name}\")\n",
    "    for t in popular_50['songs']:\n",
    "        songid = t['id']\n",
    "        if songid not in seen_tracks:\n",
    "            seen_tracks.add(songid)\n",
    "            s = safe_get_song(songid)\n",
    "            if not s or 'song' not in s:\n",
    "                continue  # skip this song safely\n",
    "\n",
    "            album_data = s['song'].get('album')\n",
    "            album_name = album_data['name'] if album_data else None\n",
    "            \n",
    "            print(f\"     🎶 {t['song_title']}\")\n",
    "            lyrics = get_lyrics(t[\"url\"])\n",
    "            \n",
    "            writers = safe_get_writers(songid, artist_name)\n",
    "            \n",
    "            all_results.append({\n",
    "                \"artist\": artist_name,\n",
    "                \"album\": album_name,\n",
    "                \"song_title\": t[\"title\"],\n",
    "                \"date\": t[\"release_date_for_display\"],\n",
    "                \"writers\": writers,\n",
    "                \"lyrics\": lyrics\n",
    "            })\n",
    "            time.sleep(1)\n",
    "\n",
    "# -----------------------------\n",
    "# SAVE RESULTS\n",
    "# -----------------------------\n",
    "df = pd.DataFrame(all_results)\n",
    "df.head()\n",
    "print(f\"\\n✅ Done! Collected {len(df)} total songs across {df['artist'].nunique()} artists.\")\n"
   ]
  },
  {
   "cell_type": "code",
   "execution_count": 8,
   "id": "9a19f504",
   "metadata": {},
   "outputs": [],
   "source": [
    "get_artist_id('Mac Miller')\n",
    "newest_50 = genius.artist_songs(820, sort='release_date', per_page=50)\n",
    "n = []\n",
    "for song in newest_50['songs']:\n",
    "    n.append(song['title'])\n",
    "    "
   ]
  },
  {
   "cell_type": "code",
   "execution_count": 18,
   "id": "777c28fb",
   "metadata": {},
   "outputs": [
    {
     "data": {
      "text/plain": [
       "'Once a Day'"
      ]
     },
     "execution_count": 18,
     "metadata": {},
     "output_type": "execute_result"
    }
   ],
   "source": [
    "n[28]"
   ]
  },
  {
   "cell_type": "code",
   "execution_count": 20,
   "id": "bb983237",
   "metadata": {},
   "outputs": [
    {
     "data": {
      "text/plain": [
       "{'annotation_count': 0,\n",
       " 'api_path': '/songs/8821137',\n",
       " 'artist_names': 'Jake Morse',\n",
       " 'full_title': 'Once a Day by\\xa0Jake\\xa0Morse',\n",
       " 'header_image_thumbnail_url': 'https://images.genius.com/8568e84b631e3ae9425fea049fee3df1.300x300x1.jpg',\n",
       " 'header_image_url': 'https://images.genius.com/8568e84b631e3ae9425fea049fee3df1.1000x1000x1.jpg',\n",
       " 'id': 8821137,\n",
       " 'lyrics_owner_id': 541287,\n",
       " 'lyrics_state': 'complete',\n",
       " 'path': '/Jake-morse-once-a-day-lyrics',\n",
       " 'primary_artist_names': 'Jake Morse',\n",
       " 'pyongs_count': None,\n",
       " 'relationships_index_url': 'https://genius.com/Jake-morse-once-a-day-sample',\n",
       " 'release_date_components': {'year': 2023, 'month': 2, 'day': 17},\n",
       " 'release_date_for_display': 'February 17, 2023',\n",
       " 'release_date_with_abbreviated_month_for_display': 'Feb. 17, 2023',\n",
       " 'song_art_image_thumbnail_url': 'https://images.genius.com/8568e84b631e3ae9425fea049fee3df1.300x300x1.jpg',\n",
       " 'song_art_image_url': 'https://images.genius.com/8568e84b631e3ae9425fea049fee3df1.1000x1000x1.jpg',\n",
       " 'stats': {'unreviewed_annotations': 0, 'hot': False},\n",
       " 'title': 'Once a Day',\n",
       " 'title_with_featured': 'Once a Day',\n",
       " 'url': 'https://genius.com/Jake-morse-once-a-day-lyrics',\n",
       " 'featured_artists': [],\n",
       " 'primary_artist': {'api_path': '/artists/380446',\n",
       "  'header_image_url': 'https://images.genius.com/7c0379b4bb2e6aadf3b185a1b1a46324.1000x1000x1.png',\n",
       "  'id': 380446,\n",
       "  'image_url': 'https://images.genius.com/db936708962c753d7ec3b964dafea6ce.576x576x1.jpg',\n",
       "  'is_meme_verified': False,\n",
       "  'is_verified': True,\n",
       "  'name': 'Jake Morse',\n",
       "  'url': 'https://genius.com/artists/Jake-morse',\n",
       "  'iq': 3488},\n",
       " 'primary_artists': [{'api_path': '/artists/380446',\n",
       "   'header_image_url': 'https://images.genius.com/7c0379b4bb2e6aadf3b185a1b1a46324.1000x1000x1.png',\n",
       "   'id': 380446,\n",
       "   'image_url': 'https://images.genius.com/db936708962c753d7ec3b964dafea6ce.576x576x1.jpg',\n",
       "   'is_meme_verified': False,\n",
       "   'is_verified': True,\n",
       "   'name': 'Jake Morse',\n",
       "   'url': 'https://genius.com/artists/Jake-morse',\n",
       "   'iq': 3488}]}"
      ]
     },
     "execution_count": 20,
     "metadata": {},
     "output_type": "execute_result"
    }
   ],
   "source": [
    "newest_50['songs'][28]"
   ]
  },
  {
   "cell_type": "code",
   "execution_count": 15,
   "id": "16b5c827",
   "metadata": {},
   "outputs": [
    {
     "data": {
      "text/plain": [
       "8821137"
      ]
     },
     "execution_count": 15,
     "metadata": {},
     "output_type": "execute_result"
    }
   ],
   "source": [
    "newest_50['songs'][28]['id']"
   ]
  },
  {
   "cell_type": "code",
   "execution_count": 17,
   "id": "9056e8b7",
   "metadata": {},
   "outputs": [
    {
     "data": {
      "text/plain": [
       "{'api_path': '/albums/1001068',\n",
       " 'cover_art_url': 'https://images.genius.com/8568e84b631e3ae9425fea049fee3df1.1000x1000x1.jpg',\n",
       " 'full_title': 'Can’t Complain by Jake Morse',\n",
       " 'id': 1001068,\n",
       " 'name': 'Can’t Complain',\n",
       " 'primary_artist_names': 'Jake Morse',\n",
       " 'release_date_for_display': 'February 17, 2023',\n",
       " 'url': 'https://genius.com/albums/Jake-morse/Cant-complain',\n",
       " 'artist': {'api_path': '/artists/380446',\n",
       "  'header_image_url': 'https://images.genius.com/7c0379b4bb2e6aadf3b185a1b1a46324.1000x1000x1.png',\n",
       "  'id': 380446,\n",
       "  'image_url': 'https://images.genius.com/db936708962c753d7ec3b964dafea6ce.576x576x1.jpg',\n",
       "  'is_meme_verified': False,\n",
       "  'is_verified': True,\n",
       "  'name': 'Jake Morse',\n",
       "  'url': 'https://genius.com/artists/Jake-morse',\n",
       "  'iq': 3488},\n",
       " 'primary_artists': [{'api_path': '/artists/380446',\n",
       "   'header_image_url': 'https://images.genius.com/7c0379b4bb2e6aadf3b185a1b1a46324.1000x1000x1.png',\n",
       "   'id': 380446,\n",
       "   'image_url': 'https://images.genius.com/db936708962c753d7ec3b964dafea6ce.576x576x1.jpg',\n",
       "   'is_meme_verified': False,\n",
       "   'is_verified': True,\n",
       "   'name': 'Jake Morse',\n",
       "   'url': 'https://genius.com/artists/Jake-morse',\n",
       "   'iq': 3488}]}"
      ]
     },
     "execution_count": 17,
     "metadata": {},
     "output_type": "execute_result"
    }
   ],
   "source": [
    "s = genius.song(8821137)\n",
    "s['song']['album']"
   ]
  },
  {
   "cell_type": "code",
   "execution_count": null,
   "id": "bdd151bb",
   "metadata": {},
   "outputs": [
    {
     "data": {
      "text/plain": [
       "'The Right to Love Us'"
      ]
     },
     "execution_count": 11,
     "metadata": {},
     "output_type": "execute_result"
    }
   ],
   "source": [
    "n[27]"
   ]
  },
  {
   "cell_type": "code",
   "execution_count": 294,
   "id": "f61fbe3c",
   "metadata": {},
   "outputs": [
    {
     "data": {
      "text/plain": [
       "artist\n",
       "Drake                   173\n",
       "Kanye West              141\n",
       "Jay-Z                   134\n",
       "J. Cole                 129\n",
       "Tyler, The Creator      128\n",
       "Mac Miller              124\n",
       "2Pac                    124\n",
       "Joey Bada$$             123\n",
       "A Tribe Called Quest    113\n",
       "Kendrick Lamar          107\n",
       "Quentin Miller          105\n",
       "Soulja Boy               91\n",
       "Big L                    83\n",
       "Name: count, dtype: int64"
      ]
     },
     "execution_count": 294,
     "metadata": {},
     "output_type": "execute_result"
    }
   ],
   "source": [
    "df['artist'].value_counts()"
   ]
  },
  {
   "cell_type": "code",
   "execution_count": 324,
   "id": "dd60fbf5",
   "metadata": {},
   "outputs": [
    {
     "data": {
      "text/plain": [
       "artist\n",
       "Drake                   172\n",
       "Kanye West              132\n",
       "Jay-Z                   130\n",
       "J. Cole                 129\n",
       "Tyler, The Creator      127\n",
       "2Pac                    121\n",
       "Mac Miller              120\n",
       "Joey Bada$$             119\n",
       "A Tribe Called Quest    111\n",
       "Kendrick Lamar           94\n",
       "Quentin Miller           89\n",
       "Big L                    77\n",
       "Soulja Boy               56\n",
       "Name: count, dtype: int64"
      ]
     },
     "execution_count": 324,
     "metadata": {},
     "output_type": "execute_result"
    }
   ],
   "source": [
    "filtered = df[df['lyrics'].notna()]\n",
    "\n",
    "filtered['artist'].value_counts()"
   ]
  },
  {
   "cell_type": "code",
   "execution_count": 348,
   "id": "2f350869",
   "metadata": {},
   "outputs": [
    {
     "name": "stdout",
     "output_type": "stream",
     "text": [
      "\n",
      "🎤 Processing artist: Kendrick Lamar\n",
      "  💿 Getting tracks for album: Black Panther: The Album\n",
      "  💿 Getting tracks for album: untitled unmastered.\n",
      "\n",
      "🎤 Processing artist: Quentin Miller\n",
      "  💿 Getting tracks for album: Shredded Metal\n",
      "  💿 Getting tracks for album: Hey! Thanks a Lot 2\n",
      "\n",
      "🎤 Processing artist: Big L\n",
      "  💿 Getting tracks for album: Harlem’s Finest: Return of the King\n",
      "  💿 Getting tracks for album: Devil’s Son EP (From The Vaults)\n",
      "\n",
      "🎤 Processing artist: Big L\n",
      "  💿 Getting tracks for album: Welcome to the Dangerzone\n",
      "  💿 Getting tracks for album: Children of the Corn: Collector’s Edition\n",
      "\n",
      "🎤 Processing artist: Soulja Boy\n",
      "  💿 Getting tracks for album: P.B.M. Pretty Boy Millionaires (Streaming Version)\n",
      "  💿 Getting tracks for album: King Soulja 3\n",
      "  💿 Getting tracks for album: Successful\n",
      "  💿 Getting tracks for album: The Teen of the South\n",
      "  💿 Getting tracks for album: souljaboytellem.com\n",
      "  💿 Getting tracks for album: Supaman\n",
      "  💿 Getting tracks for album: Unsigned and Still Major: Da Album Before Da Album\n",
      "\n",
      "✅ Done!'\n"
     ]
    }
   ],
   "source": [
    "supp_tar_albums = {\n",
    "    \"Kendrick Lamar\": [\"untitled unmastered.\", \"Black Panther: The Album\"],\n",
    "    \"Quentin Miller\": [\"Hey! Thanks a Lot 2\", \"Shredded Metal\"],\n",
    "    \"Big L\": [\"Devil’s Son EP (From The Vaults)\", \"Harlem’s Finest: Return of the King\"],\n",
    "    \"Childern of the Corn\": [\"Children of the Corn: Collector’s Edition\", \"Welcome to the Dangerzone\"],\n",
    "    \"Soulja Boy\": [\"Supaman\", \"Unsigned and Still Major: Da Album Before Da Album\", \"souljaboytellem.com\", \"The Teen of the South\", \"P.B.M. Pretty Boy Millionaires (Streaming Version)\", \"King Soulja 3\", \"Successful\"]\n",
    "}\n",
    "\n",
    "supp_artists = list(supp_tar_albums.keys())\n",
    "\n",
    "for artist in supp_artists:\n",
    "    artist_name = artist\n",
    "    if artist == \"Childern of the Corn\":\n",
    "        artist_name = \"Big L\"\n",
    "    print(f\"\\n🎤 Processing artist: {artist_name}\")\n",
    "    artist_id = get_artist_id(artist)\n",
    "    if artist_id is None:\n",
    "        continue\n",
    "    \n",
    "    albums = get_albums_by_artist(artist_id)\n",
    "    if not albums:\n",
    "        print(f\"  ⚠️ No albums found for {artist_name}\")\n",
    "        continue\n",
    "    \n",
    "    df_albums = pd.DataFrame(albums)\n",
    "\n",
    "    # Filter if target albums specified\n",
    "    if supp_tar_albums.get(artist):\n",
    "        df_albums = df_albums[df_albums[\"album_name\"].isin(supp_tar_albums[artist])]\n",
    "\n",
    "    for _, album_row in df_albums.iterrows():\n",
    "        album_name = album_row[\"album_name\"]\n",
    "        album_id = album_row[\"album_id\"]\n",
    "        print(f\"  💿 Getting tracks for album: {album_name}\")\n",
    "\n",
    "        tracks = get_album_tracks(album_id)\n",
    "        for t in tracks:\n",
    "            songid = t['song_id']\n",
    "            if songid not in seen_tracks:\n",
    "                seen_tracks.add(songid)\n",
    "                print(f\"     🎶 {t['song_title']}\")\n",
    "                lyrics = get_lyrics(t[\"url\"])\n",
    "                \n",
    "                writers = safe_get_writers(songid, artist)\n",
    "                \n",
    "                all_results.append({\n",
    "                    \"artist\": artist_name,\n",
    "                    \"album\": album_name,\n",
    "                    \"song_title\": t[\"song_title\"],\n",
    "                    \"date\": t['date'],\n",
    "                    \"writers\": writers,\n",
    "                    \"lyrics\": lyrics\n",
    "                })\n",
    "                time.sleep(1)\n",
    "                \n",
    "filtered = pd.concat([filtered, pd.DataFrame(all_results)], ignore_index=True).drop_duplicates(subset=['song_title'], keep='first')\n",
    "print(\"\\n✅ Done!'\")"
   ]
  },
  {
   "cell_type": "code",
   "execution_count": 349,
   "id": "6dd9e3e2",
   "metadata": {},
   "outputs": [
    {
     "data": {
      "text/plain": [
       "artist\n",
       "Soulja Boy              201\n",
       "Drake                   172\n",
       "Kanye West              139\n",
       "Jay-Z                   130\n",
       "Kendrick Lamar          129\n",
       "J. Cole                 128\n",
       "Tyler, The Creator      128\n",
       "Mac Miller              121\n",
       "2Pac                    120\n",
       "Joey Bada$$             118\n",
       "Quentin Miller          117\n",
       "A Tribe Called Quest    113\n",
       "Big L                   110\n",
       "Name: count, dtype: int64"
      ]
     },
     "execution_count": 349,
     "metadata": {},
     "output_type": "execute_result"
    }
   ],
   "source": [
    "filtered['artist'].value_counts()"
   ]
  },
  {
   "cell_type": "code",
   "execution_count": 1,
   "id": "e3c46266",
   "metadata": {},
   "outputs": [
    {
     "ename": "NameError",
     "evalue": "name 'filtered' is not defined",
     "output_type": "error",
     "traceback": [
      "\u001b[0;31m---------------------------------------------------------------------------\u001b[0m",
      "\u001b[0;31mNameError\u001b[0m                                 Traceback (most recent call last)",
      "Cell \u001b[0;32mIn[1], line 1\u001b[0m\n\u001b[0;32m----> 1\u001b[0m filtered[\u001b[38;5;124m'\u001b[39m\u001b[38;5;124mlyrics\u001b[39m\u001b[38;5;124m'\u001b[39m][\u001b[38;5;241m0\u001b[39m]\n",
      "\u001b[0;31mNameError\u001b[0m: name 'filtered' is not defined"
     ]
    }
   ],
   "source": [
    "filtered['lyrics'][0]"
   ]
  }
 ],
 "metadata": {
  "kernelspec": {
   "display_name": "base",
   "language": "python",
   "name": "python3"
  },
  "language_info": {
   "codemirror_mode": {
    "name": "ipython",
    "version": 3
   },
   "file_extension": ".py",
   "mimetype": "text/x-python",
   "name": "python",
   "nbconvert_exporter": "python",
   "pygments_lexer": "ipython3",
   "version": "3.12.4"
  }
 },
 "nbformat": 4,
 "nbformat_minor": 5
}
