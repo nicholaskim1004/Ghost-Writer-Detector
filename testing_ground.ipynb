{
 "cells": [
  {
   "cell_type": "markdown",
   "id": "d14fa868",
   "metadata": {},
   "source": [
    "## Ghost Writer Detector\n",
    "\n"
   ]
  },
  {
   "cell_type": "code",
   "execution_count": null,
   "id": "2085265f",
   "metadata": {},
   "outputs": [],
   "source": []
  }
 ],
 "metadata": {
  "language_info": {
   "name": "python"
  }
 },
 "nbformat": 4,
 "nbformat_minor": 5
}
